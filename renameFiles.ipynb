{
 "cells": [
  {
   "cell_type": "code",
   "execution_count": 1,
   "id": "b21662b4-735c-4ae4-a91a-f1fb22a5570b",
   "metadata": {},
   "outputs": [],
   "source": [
    "import os \n",
    "import random"
   ]
  },
  {
   "cell_type": "code",
   "execution_count": 8,
   "id": "6eedbd0e-1a16-460b-b1e3-1d15cd9cdef1",
   "metadata": {},
   "outputs": [
    {
     "data": {
      "text/plain": [
       "['twittermemes',\n",
       " '@ukraine',\n",
       " 'index.html',\n",
       " '.DS_Store',\n",
       " 'memes.js',\n",
       " '@MENAConflicted',\n",
       " 'renameFiles.ipynb',\n",
       " 'README.md',\n",
       " 'env',\n",
       " '.ipynb_checkpoints',\n",
       " 'fileData.json',\n",
       " 'reddit_memes',\n",
       " '.git',\n",
       " 'categories55.json',\n",
       " 'fbmemes',\n",
       " 'igmemes']"
      ]
     },
     "execution_count": 8,
     "metadata": {},
     "output_type": "execute_result"
    }
   ],
   "source": [
    "os.listdir() "
   ]
  },
  {
   "cell_type": "code",
   "execution_count": 11,
   "id": "0c2e1890-8950-4a62-adad-cfb7c237affe",
   "metadata": {},
   "outputs": [],
   "source": [
    "for folder in ['twittermemes', '@ukraine', '@MENAConflicted','reddit_memes','fbmemes','igmemes']:\n",
    "    for file in os.listdir(folder):\n",
    "        if '#' in file or '?' in file:\n",
    "            os.rename(folder+'/'+file, file.replace('#','').replace('?',''))\n",
    "            print(file)"
   ]
  },
  {
   "cell_type": "code",
   "execution_count": null,
   "id": "9f7cba71-8c1f-461e-b7b5-713219070b44",
   "metadata": {},
   "outputs": [],
   "source": []
  }
 ],
 "metadata": {
  "kernelspec": {
   "display_name": "Python 3 (ipykernel)",
   "language": "python",
   "name": "python3"
  },
  "language_info": {
   "codemirror_mode": {
    "name": "ipython",
    "version": 3
   },
   "file_extension": ".py",
   "mimetype": "text/x-python",
   "name": "python",
   "nbconvert_exporter": "python",
   "pygments_lexer": "ipython3",
   "version": "3.9.7"
  }
 },
 "nbformat": 4,
 "nbformat_minor": 5
}
