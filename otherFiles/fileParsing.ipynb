{
 "cells": [
  {
   "cell_type": "code",
   "execution_count": 2,
   "id": "edff118b-79f5-4151-ad39-7a88ce49c70b",
   "metadata": {},
   "outputs": [],
   "source": [
    "import os\n",
    "import random\n",
    "import pandas as pd\n",
    "import json"
   ]
  },
  {
   "cell_type": "code",
   "execution_count": 3,
   "id": "75b64416-e22a-4c91-aaeb-52afc2ee69b5",
   "metadata": {},
   "outputs": [
    {
     "data": {
      "text/html": [
       "<div>\n",
       "<style scoped>\n",
       "    .dataframe tbody tr th:only-of-type {\n",
       "        vertical-align: middle;\n",
       "    }\n",
       "\n",
       "    .dataframe tbody tr th {\n",
       "        vertical-align: top;\n",
       "    }\n",
       "\n",
       "    .dataframe thead th {\n",
       "        text-align: right;\n",
       "    }\n",
       "</style>\n",
       "<table border=\"1\" class=\"dataframe\">\n",
       "  <thead>\n",
       "    <tr style=\"text-align: right;\">\n",
       "      <th></th>\n",
       "      <th>0</th>\n",
       "      <th>1</th>\n",
       "    </tr>\n",
       "  </thead>\n",
       "  <tbody>\n",
       "    <tr>\n",
       "      <th>0</th>\n",
       "      <td>Format</td>\n",
       "      <td>F</td>\n",
       "    </tr>\n",
       "    <tr>\n",
       "      <th>1</th>\n",
       "      <td>Image macro</td>\n",
       "      <td>IM</td>\n",
       "    </tr>\n",
       "    <tr>\n",
       "      <th>2</th>\n",
       "      <td>No text</td>\n",
       "      <td>NT</td>\n",
       "    </tr>\n",
       "    <tr>\n",
       "      <th>3</th>\n",
       "      <td>Multi-panel</td>\n",
       "      <td>MP</td>\n",
       "    </tr>\n",
       "    <tr>\n",
       "      <th>4</th>\n",
       "      <td>2-panel</td>\n",
       "      <td>2P</td>\n",
       "    </tr>\n",
       "  </tbody>\n",
       "</table>\n",
       "</div>"
      ],
      "text/plain": [
       "             0   1\n",
       "0       Format   F\n",
       "1  Image macro  IM\n",
       "2      No text  NT\n",
       "3  Multi-panel  MP\n",
       "4      2-panel  2P"
      ]
     },
     "execution_count": 3,
     "metadata": {},
     "output_type": "execute_result"
    }
   ],
   "source": [
    "xls = pd.read_excel('Categories for Meme Project.xlsx',header=None)\n",
    "xls.head()"
   ]
  },
  {
   "cell_type": "code",
   "execution_count": 4,
   "id": "db84fd8d-6452-4361-8031-6e002abed4bc",
   "metadata": {},
   "outputs": [],
   "source": [
    "records = xls.to_dict('records')"
   ]
  },
  {
   "cell_type": "code",
   "execution_count": 5,
   "id": "591d1c79-cdb5-4028-96f3-a557e7ca85fc",
   "metadata": {},
   "outputs": [
    {
     "data": {
      "text/plain": [
       "{0: 'Boardroom Suggestion', 1: 'BS'}"
      ]
     },
     "execution_count": 5,
     "metadata": {},
     "output_type": "execute_result"
    }
   ],
   "source": [
    "random.choice(records)"
   ]
  },
  {
   "cell_type": "code",
   "execution_count": 8,
   "id": "70b642db-7ed2-4f99-9c6f-183417319a18",
   "metadata": {},
   "outputs": [],
   "source": [
    "cats = ['Format','Genre','Template','Stance','Keywords']\n",
    "lookupDict = dict()\n",
    "for cat in cats:\n",
    "    lookupDict[cat] = dict()\n",
    "    lookupDict[cat]['Other'] = 'Other'\n",
    "for rec in records:\n",
    "    if pd.isna(rec[0]):\n",
    "        continue\n",
    "    if rec[0] in cats:\n",
    "        THISCAT = rec[0]\n",
    "        continue\n",
    "    lookupDict[THISCAT][rec[0]] = rec[1]"
   ]
  },
  {
   "cell_type": "code",
   "execution_count": 10,
   "id": "170e7b96-805a-4966-bd30-816aed9335bd",
   "metadata": {},
   "outputs": [],
   "source": [
    "with open('categories55.json', 'w', encoding='utf-8') as f:\n",
    "    json.dump(lookupDict, f, ensure_ascii=False, indent=4)"
   ]
  },
  {
   "cell_type": "code",
   "execution_count": 25,
   "id": "5a6d66bb-a6a6-4a2c-b117-ca134fe4f12e",
   "metadata": {},
   "outputs": [],
   "source": [
    "newfilelist = []\n",
    "folder = '@MENAConflicted'\n",
    "for file in os.listdir(folder):\n",
    "    if file in ['.DS_Store','.ipynb_checkpoints']:\n",
    "        continue\n",
    "    if '2022' not in file:\n",
    "        splitfile = file.replace('.jpg','').replace('.png','').split('0')\n",
    "        catDict = dict()\n",
    "        for cat in splitfile:\n",
    "            splitcat = cat.split('-')\n",
    "            lookupKey = splitcat[0]\n",
    "            subcats = splitcat[1]\n",
    "            splitsubcats = subcats.split('_')\n",
    "            catDict[lookupKey] = splitsubcats\n",
    "        newfilelist.append({\n",
    "            'fileName' : file,\n",
    "            'categories' : catDict\n",
    "        })"
   ]
  },
  {
   "cell_type": "code",
   "execution_count": 29,
   "id": "fe8b4791-e779-4c54-85f7-de66430c70cb",
   "metadata": {},
   "outputs": [],
   "source": [
    "folder = '@MENAConflicted'\n",
    "fileData = {\n",
    "    'folder' : folder,\n",
    "    'files' : newfilelist\n",
    "}\n",
    "with open('fileData.json', 'w', encoding='utf-8') as f:\n",
    "    json.dump(fileData, f, ensure_ascii=False, indent=4)"
   ]
  },
  {
   "cell_type": "code",
   "execution_count": null,
   "id": "93ebc6ae-614f-48e7-9ec8-19350af5aeab",
   "metadata": {},
   "outputs": [],
   "source": []
  }
 ],
 "metadata": {
  "kernelspec": {
   "display_name": "Python 3 (ipykernel)",
   "language": "python",
   "name": "python3"
  },
  "language_info": {
   "codemirror_mode": {
    "name": "ipython",
    "version": 3
   },
   "file_extension": ".py",
   "mimetype": "text/x-python",
   "name": "python",
   "nbconvert_exporter": "python",
   "pygments_lexer": "ipython3",
   "version": "3.9.7"
  }
 },
 "nbformat": 4,
 "nbformat_minor": 5
}
