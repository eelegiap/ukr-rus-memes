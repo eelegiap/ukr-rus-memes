{
 "cells": [
  {
   "cell_type": "code",
   "execution_count": 1,
   "id": "edff118b-79f5-4151-ad39-7a88ce49c70b",
   "metadata": {},
   "outputs": [],
   "source": [
    "import os\n",
    "import random\n",
    "import pandas as pd\n",
    "import json"
   ]
  },
  {
   "cell_type": "code",
   "execution_count": 3,
   "id": "75b64416-e22a-4c91-aaeb-52afc2ee69b5",
   "metadata": {},
   "outputs": [
    {
     "data": {
      "text/html": [
       "<div>\n",
       "<style scoped>\n",
       "    .dataframe tbody tr th:only-of-type {\n",
       "        vertical-align: middle;\n",
       "    }\n",
       "\n",
       "    .dataframe tbody tr th {\n",
       "        vertical-align: top;\n",
       "    }\n",
       "\n",
       "    .dataframe thead th {\n",
       "        text-align: right;\n",
       "    }\n",
       "</style>\n",
       "<table border=\"1\" class=\"dataframe\">\n",
       "  <thead>\n",
       "    <tr style=\"text-align: right;\">\n",
       "      <th></th>\n",
       "      <th>0</th>\n",
       "      <th>1</th>\n",
       "    </tr>\n",
       "  </thead>\n",
       "  <tbody>\n",
       "    <tr>\n",
       "      <th>0</th>\n",
       "      <td>Format</td>\n",
       "      <td>F</td>\n",
       "    </tr>\n",
       "    <tr>\n",
       "      <th>1</th>\n",
       "      <td>Image macro</td>\n",
       "      <td>IM</td>\n",
       "    </tr>\n",
       "    <tr>\n",
       "      <th>2</th>\n",
       "      <td>No text</td>\n",
       "      <td>NT</td>\n",
       "    </tr>\n",
       "    <tr>\n",
       "      <th>3</th>\n",
       "      <td>Multi-panel</td>\n",
       "      <td>MP</td>\n",
       "    </tr>\n",
       "    <tr>\n",
       "      <th>4</th>\n",
       "      <td>2-panel</td>\n",
       "      <td>2P</td>\n",
       "    </tr>\n",
       "  </tbody>\n",
       "</table>\n",
       "</div>"
      ],
      "text/plain": [
       "             0   1\n",
       "0       Format   F\n",
       "1  Image macro  IM\n",
       "2      No text  NT\n",
       "3  Multi-panel  MP\n",
       "4      2-panel  2P"
      ]
     },
     "execution_count": 3,
     "metadata": {},
     "output_type": "execute_result"
    }
   ],
   "source": [
    "xls = pd.read_excel('F-0G-0T-0S-0K-.xlsx',header=None)\n",
    "xls.head()"
   ]
  },
  {
   "cell_type": "code",
   "execution_count": 4,
   "id": "db84fd8d-6452-4361-8031-6e002abed4bc",
   "metadata": {},
   "outputs": [],
   "source": [
    "records = xls.to_dict('records')"
   ]
  },
  {
   "cell_type": "code",
   "execution_count": 5,
   "id": "591d1c79-cdb5-4028-96f3-a557e7ca85fc",
   "metadata": {},
   "outputs": [
    {
     "data": {
      "text/plain": [
       "{0: 'Left Exit 12 Off Ramp', 1: 'LE'}"
      ]
     },
     "execution_count": 5,
     "metadata": {},
     "output_type": "execute_result"
    }
   ],
   "source": [
    "random.choice(records)"
   ]
  },
  {
   "cell_type": "code",
   "execution_count": 6,
   "id": "70b642db-7ed2-4f99-9c6f-183417319a18",
   "metadata": {},
   "outputs": [],
   "source": [
    "cats = ['Format','Genre','Template','Stance','Keywords']\n",
    "lookupDict = dict()\n",
    "for cat in cats:\n",
    "    lookupDict[cat] = dict()\n",
    "    lookupDict[cat]['Other'] = 'Other'\n",
    "for rec in records:\n",
    "    if pd.isna(rec[0]):\n",
    "        continue\n",
    "    if rec[0] in cats:\n",
    "        THISCAT = rec[0]\n",
    "        continue\n",
    "    lookupDict[THISCAT][rec[0]] = rec[1]"
   ]
  },
  {
   "cell_type": "code",
   "execution_count": 8,
   "id": "170e7b96-805a-4966-bd30-816aed9335bd",
   "metadata": {},
   "outputs": [],
   "source": [
    "with open('categories.json', 'w', encoding='utf-8') as f:\n",
    "    json.dump(lookupDict, f, ensure_ascii=False, indent=4)"
   ]
  },
  {
   "cell_type": "code",
   "execution_count": 14,
   "id": "5a6d66bb-a6a6-4a2c-b117-ca134fe4f12e",
   "metadata": {},
   "outputs": [],
   "source": [
    "fileData = []\n",
    "for folder in ['@MENAConflicted', '@ukraine',]:\n",
    "    fileDict = dict()\n",
    "    fileDict['folder'] = folder\n",
    "    newfilelist = []\n",
    "    for file in os.listdir(folder):\n",
    "        if file in ['.DS_Store','.ipynb_checkpoints']:\n",
    "            continue\n",
    "        if '2022' not in file:\n",
    "            splitfile = file.replace('.jpg','').replace('.png','').split('0')\n",
    "            catDict = dict()\n",
    "            for cat in splitfile:\n",
    "                splitcat = cat.split('-')\n",
    "                lookupKey = splitcat[0]\n",
    "                subcats = splitcat[1]\n",
    "                splitsubcats = subcats.split('_')\n",
    "                catDict[lookupKey] = splitsubcats\n",
    "            newfilelist.append({\n",
    "                'fileName' : file,\n",
    "                # 'categories' : catDict\n",
    "            })\n",
    "    fileDict['files'] = newfilelist\n",
    "    fileData.append(fileDict)"
   ]
  },
  {
   "cell_type": "code",
   "execution_count": 15,
   "id": "94883032-95e8-4e40-9e1d-374ff7546042",
   "metadata": {},
   "outputs": [
    {
     "data": {
      "text/plain": [
       "[{'folder': '@MENAConflicted',\n",
       "  'files': [{'fileName': 'F-IM_2P0G-PC_MI0T-0S-DRP_MRB0K-PU_NW.jpg'},\n",
       "   {'fileName': 'F-IM0G-MC_PC0T-0S-COS0K-.jpg'},\n",
       "   {'fileName': 'F-IM_2P0G-GP0T-0S-CPU_DRP0K-HI.jpg'},\n",
       "   {'fileName': 'F-IM0G-MI0T-0S-MRB0K-.jpg'},\n",
       "   {'fileName': 'F-IM0G-MI_GP0T-CO0S-DRP_MRB0K-PU.jpg'},\n",
       "   {'fileName': 'F-IM_MP0G-PC_MI0T-0S-UP_MRB0K-MO_FL.jpg'},\n",
       "   {'fileName': 'F-IM0G-MC0T-0S-CPU0K-NU_USA_FL.jpg'},\n",
       "   {'fileName': 'F-IM_MP0G-MC0T-0S-COT_CPU0K-PU.jpg'},\n",
       "   {'fileName': 'F-IM_MP_HD0G-GP_MI0T-0S-DRP0K-NW_NU_FL.jpg'},\n",
       "   {'fileName': 'F-IM0G-MI0T-0S-MRB0K-USA_FL.jpg'},\n",
       "   {'fileName': 'F-IM_2P0G-MI0T-TB0S-MRB0K-.jpg'},\n",
       "   {'fileName': 'F-HD_2P0G-GP0T-0K-FL.jpg'},\n",
       "   {'fileName': 'F-IM_2P0G-GP_MI0T-SS0S-CPU0K-.jpg'},\n",
       "   {'fileName': 'F-IM0G-MI0T-0S-CPU0K-USA_FL.jpg'},\n",
       "   {'fileName': 'F-IM_2P0G-PC_MI0T-0S-MRB0K-FL.jpg'},\n",
       "   {'fileName': 'F-IM0G-GP0T-ITAP0S-CPU0K-PU.jpg'},\n",
       "   {'fileName': 'F-IM0G-GP0T-LE0S-CPU0K-GE_NU.jpg'},\n",
       "   {'fileName': 'F-IM_2P0G-MI0T-0S-MRB_UP0K-GOK.jpg'},\n",
       "   {'fileName': 'F-IM0G-GP0T-0S-DRP0K-PU.jpg'},\n",
       "   {'fileName': 'F-IM0G-GP0T-0S-COT0K-PU_USA.jpg'},\n",
       "   {'fileName': 'F-IM0G-GP_MI0T-0S-MRB0K-CR_UK.jpg'},\n",
       "   {'fileName': 'F-NT0G-GP0T-0S-DRP0K-PU.jpg'},\n",
       "   {'fileName': 'F-IM0G-MI0T-0S-RT0K-WWIII.jpg'},\n",
       "   {'fileName': 'F-IM0G-PC0T-0S-DRP0K-.jpg'},\n",
       "   {'fileName': 'F-IM0G-MI_MC0T-0S-COT0K-HI.jpg'},\n",
       "   {'fileName': 'F-IM_MP0G-MI_GP0T-SS0S-COT0K-.jpg'},\n",
       "   {'fileName': 'F-IM0G-MI0T-CH_CRG0S-COT0K-USA_HI.jpg'},\n",
       "   {'fileName': 'F-IM0G-MI0T-LG0S-MRB0K-.jpg'},\n",
       "   {'fileName': 'F-IM0G-0T-0S-DRP0K-.jpg'},\n",
       "   {'fileName': 'F-IM0G-MI0T-LG0S-MRB0K-1.jpg'},\n",
       "   {'fileName': 'F-NT0G-GP0T-0S-DRP_ZVP0K-PU.jpg'},\n",
       "   {'fileName': 'F-NT0G-GP0T-0S-DRP0K-PU1.jpg'},\n",
       "   {'fileName': 'F-HD_NT0G-UFC_MI0T-0S-UP_MRB0K-FA_FL.jpg'},\n",
       "   {'fileName': 'F-IM0G-MI0T-0S-DRP_MRB0K-WO_FL.jpg'},\n",
       "   {'fileName': 'F-NT0G-PC_MI0T-WS0S-MRB0K-USA_MO.jpg'},\n",
       "   {'fileName': 'F-IM_MP0G-MI_GP0T-0S-MRB0K-.jpg'},\n",
       "   {'fileName': 'F-IM0G-GP_MI0T-0S-CPU_COT_DRP_MRB0K-FL_FI_GE_PO_USA_UK.jpg'},\n",
       "   {'fileName': 'F-IM0G-MI0T-CO0S-DRP_MRB0K-PU_MO.jpg'},\n",
       "   {'fileName': 'F-MP_IM0G-DA_MIGP0T-0S-DRP0K-PU_FL.jpg'},\n",
       "   {'fileName': 'F-IM_MP0G-GP0T-0S-CPU0K-USA.jpg'},\n",
       "   {'fileName': 'F-IM_MP0G-GP_MI0T-0S-CPU0K-GE_USA.jpg'},\n",
       "   {'fileName': 'F-IM_2P0G-MI_PC0T-0S-MRB0K-.jpg'},\n",
       "   {'fileName': 'F-IM0G-MI_GP0T-CH0S-UP_MRB0K-FL_PO.jpg'},\n",
       "   {'fileName': 'F-IM0G-MC0T-0S-CPU0K-USA.jpg'}]},\n",
       " {'folder': '@ukraine',\n",
       "  'files': [{'fileName': 'F-IM_MP0G-GP_PC0T-0S-CPU_DRP0K-NU.jpg'},\n",
       "   {'fileName': 'F-IM_MP0G-PC0T-DAD0S-DRP0K-PU.jpg'},\n",
       "   {'fileName': 'F-IM_MP_NT0G-PC_MI0T-PPG0S-MRB_DRP0K-.jpg'},\n",
       "   {'fileName': 'F-IM0G-UFC_GP0T-RS0S-UP_CPU0K-CR.jpg'},\n",
       "   {'fileName': 'F-IM_MP0G-GP_MI0T-BRS0S-CPU0K-CR.jpg'},\n",
       "   {'fileName': 'F-IM_HD0G-GP0T-0S-UP_DRP0K-.jpg'},\n",
       "   {'fileName': 'F-IM0G-GP0T-BS0S-CPU_DRP0K-USA.jpg'},\n",
       "   {'fileName': 'F-IM0G-GP0T-GSB0S-CPU0K-.jpg'},\n",
       "   {'fileName': 'F-IM0G-PC_GP0T-LSP0S-CPU0K-.jpg'},\n",
       "   {'fileName': 'F-NT0G-GP0T-0S-DRP0K-PU.jpg'},\n",
       "   {'fileName': 'F-IM0G-GP_MI0T-0S-MRB0K-.jpg'},\n",
       "   {'fileName': 'F-IM0G-PC_UFC_GP0T-0S-UP0K-CR.jpg'},\n",
       "   {'fileName': 'F-IM_2P0G-UFC0T-JHP0S-UP0K-.jpg'},\n",
       "   {'fileName': 'F-IM0G-GP_MC0T-0S-CPU_DRP0K-.jpg'},\n",
       "   {'fileName': 'F-IM0G-GP0T-DVW0S-CPU0K-PU.jpg'},\n",
       "   {'fileName': 'F-IM0G-GP_PC0T-0S-UP_CPU0K-CR.jpg'},\n",
       "   {'fileName': 'F-IM0G-GP0T-GSB0S-DRP_CPU0K-.jpg'},\n",
       "   {'fileName': 'F-IM_HD0G-UFC_GP0T-0S-UP_CPU0K-CR.jpg'},\n",
       "   {'fileName': 'F-IM_MP0G-GP0T-0S-DRP_ZVP0K-PU_ZE.jpg'},\n",
       "   {'fileName': 'F-IM_MP0G-GP_MI0T-0S-DRP_MRB0K-.jpg'}]}]"
      ]
     },
     "execution_count": 15,
     "metadata": {},
     "output_type": "execute_result"
    }
   ],
   "source": [
    "fileData"
   ]
  },
  {
   "cell_type": "code",
   "execution_count": 16,
   "id": "fe8b4791-e779-4c54-85f7-de66430c70cb",
   "metadata": {},
   "outputs": [],
   "source": [
    "with open('fileData.json', 'w', encoding='utf-8') as f:\n",
    "    json.dump(fileData, f, ensure_ascii=False, indent=4)"
   ]
  },
  {
   "cell_type": "code",
   "execution_count": null,
   "id": "1df40f0a-3727-48f1-b7bf-2aa03edab2c5",
   "metadata": {},
   "outputs": [],
   "source": []
  }
 ],
 "metadata": {
  "kernelspec": {
   "display_name": "Python 3 (ipykernel)",
   "language": "python",
   "name": "python3"
  },
  "language_info": {
   "codemirror_mode": {
    "name": "ipython",
    "version": 3
   },
   "file_extension": ".py",
   "mimetype": "text/x-python",
   "name": "python",
   "nbconvert_exporter": "python",
   "pygments_lexer": "ipython3",
   "version": "3.9.7"
  }
 },
 "nbformat": 4,
 "nbformat_minor": 5
}
