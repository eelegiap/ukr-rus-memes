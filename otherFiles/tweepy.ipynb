{
 "cells": [
  {
   "cell_type": "code",
   "execution_count": 8,
   "id": "798ebc43-b63a-41c9-9270-32800ef5c937",
   "metadata": {},
   "outputs": [],
   "source": [
    "# pip install tweepy"
   ]
  },
  {
   "cell_type": "code",
   "execution_count": 1,
   "id": "cec28aca-1dd2-41ee-aa09-2e0dbc5ceec9",
   "metadata": {},
   "outputs": [],
   "source": [
    "import random\n",
    "import requests"
   ]
  },
  {
   "cell_type": "code",
   "execution_count": 2,
   "id": "863d58b8-c5b3-444d-a25d-a05b44e497f7",
   "metadata": {
    "tags": []
   },
   "outputs": [],
   "source": [
    "import tweepy\n",
    "\n",
    "consumer_key = 'euwYTUfZnw9ZxJcx3K5hrU4Yi'\n",
    "consumer_secret = 'LelKUcomjCUQrZEuvcXYGb0dN13eXMwJYTeiZEEOOVKlUSBGni'\n",
    "bearer_token = 'AAAAAAAAAAAAAAAAAAAAAOX5bwEAAAAA%2FEz%2B43J2YzFmxpfQIp1aeuzEJ14%3DNIAcPgETcfnKuKi4XQ4rpZfyi4wtfXvPC5Tdg93lJOQOSKOELa'\n",
    "\n",
    "access_token = '1199126551217856513-6aZEmAk0ZslF61x0HV0M4TyADXcSlj'\n",
    "access_token_secret = 'Iqq7ehejznZo0qnYVMnqCHrz07kOmlUbg6sWDSIBDIN22'\n",
    "\n",
    "auth = tweepy.OAuth1UserHandler(\n",
    "   consumer_key, consumer_secret, access_token, access_token_secret\n",
    ")\n",
    "\n",
    "api = tweepy.API(auth)\n",
    "\n",
    "public_tweets = api.home_timeline()"
   ]
  },
  {
   "cell_type": "code",
   "execution_count": 3,
   "id": "f53da04e-80b6-467b-b679-509819f953ab",
   "metadata": {},
   "outputs": [],
   "source": [
    "client = tweepy.Client(bearer_token, consumer_key, consumer_secret, access_token, access_token_secret)"
   ]
  },
  {
   "cell_type": "code",
   "execution_count": 4,
   "id": "7d47819c-a996-4d0b-94be-6b10c25c7b1e",
   "metadata": {
    "tags": []
   },
   "outputs": [
    {
     "name": "stderr",
     "output_type": "stream",
     "text": [
      "Unexpected parameter: id\n",
      "Unexpected parameter: id\n"
     ]
    },
    {
     "name": "stdout",
     "output_type": "stream",
     "text": [
      "0 tweets scraped in total.\n"
     ]
    },
    {
     "name": "stderr",
     "output_type": "stream",
     "text": [
      "Unexpected parameter: id\n",
      "Unexpected parameter: id\n",
      "Unexpected parameter: id\n",
      "Unexpected parameter: id\n",
      "Unexpected parameter: id\n"
     ]
    },
    {
     "name": "stdout",
     "output_type": "stream",
     "text": [
      "100 tweets scraped in total.\n"
     ]
    },
    {
     "name": "stderr",
     "output_type": "stream",
     "text": [
      "Unexpected parameter: id\n",
      "Unexpected parameter: id\n",
      "Unexpected parameter: id\n",
      "Unexpected parameter: id\n",
      "Unexpected parameter: id\n"
     ]
    },
    {
     "name": "stdout",
     "output_type": "stream",
     "text": [
      "200 tweets scraped in total.\n"
     ]
    },
    {
     "name": "stderr",
     "output_type": "stream",
     "text": [
      "Unexpected parameter: id\n",
      "Unexpected parameter: id\n",
      "Unexpected parameter: id\n",
      "Unexpected parameter: id\n",
      "Unexpected parameter: id\n"
     ]
    },
    {
     "name": "stdout",
     "output_type": "stream",
     "text": [
      "300 tweets scraped in total.\n"
     ]
    },
    {
     "name": "stderr",
     "output_type": "stream",
     "text": [
      "Unexpected parameter: id\n",
      "Unexpected parameter: id\n",
      "Unexpected parameter: id\n",
      "Unexpected parameter: id\n",
      "Unexpected parameter: id\n"
     ]
    },
    {
     "name": "stdout",
     "output_type": "stream",
     "text": [
      "400 tweets scraped in total.\n"
     ]
    },
    {
     "name": "stderr",
     "output_type": "stream",
     "text": [
      "Unexpected parameter: id\n",
      "Unexpected parameter: id\n",
      "Unexpected parameter: id\n",
      "Unexpected parameter: id\n",
      "Unexpected parameter: id\n"
     ]
    },
    {
     "name": "stdout",
     "output_type": "stream",
     "text": [
      "500 tweets scraped in total.\n"
     ]
    },
    {
     "name": "stderr",
     "output_type": "stream",
     "text": [
      "Unexpected parameter: id\n",
      "Unexpected parameter: id\n",
      "Unexpected parameter: id\n",
      "Unexpected parameter: id\n",
      "Unexpected parameter: id\n"
     ]
    },
    {
     "name": "stdout",
     "output_type": "stream",
     "text": [
      "600 tweets scraped in total.\n"
     ]
    },
    {
     "name": "stderr",
     "output_type": "stream",
     "text": [
      "Unexpected parameter: id\n",
      "Unexpected parameter: id\n",
      "Unexpected parameter: id\n",
      "Unexpected parameter: id\n",
      "Unexpected parameter: id\n"
     ]
    },
    {
     "name": "stdout",
     "output_type": "stream",
     "text": [
      "700 tweets scraped in total.\n"
     ]
    },
    {
     "name": "stderr",
     "output_type": "stream",
     "text": [
      "Unexpected parameter: id\n",
      "Unexpected parameter: id\n",
      "Unexpected parameter: id\n",
      "Unexpected parameter: id\n",
      "Unexpected parameter: id\n"
     ]
    },
    {
     "name": "stdout",
     "output_type": "stream",
     "text": [
      "800 tweets scraped in total.\n"
     ]
    },
    {
     "name": "stderr",
     "output_type": "stream",
     "text": [
      "Unexpected parameter: id\n",
      "Unexpected parameter: id\n",
      "Unexpected parameter: id\n",
      "Unexpected parameter: id\n",
      "Unexpected parameter: id\n"
     ]
    },
    {
     "name": "stdout",
     "output_type": "stream",
     "text": [
      "900 tweets scraped in total.\n"
     ]
    },
    {
     "name": "stderr",
     "output_type": "stream",
     "text": [
      "Unexpected parameter: id\n",
      "Unexpected parameter: id\n",
      "Unexpected parameter: id\n",
      "Unexpected parameter: id\n",
      "Unexpected parameter: id\n"
     ]
    },
    {
     "name": "stdout",
     "output_type": "stream",
     "text": [
      "1000 tweets scraped in total.\n"
     ]
    },
    {
     "name": "stderr",
     "output_type": "stream",
     "text": [
      "Unexpected parameter: id\n",
      "Unexpected parameter: id\n",
      "Unexpected parameter: id\n",
      "Unexpected parameter: id\n",
      "Unexpected parameter: id\n"
     ]
    },
    {
     "name": "stdout",
     "output_type": "stream",
     "text": [
      "1100 tweets scraped in total.\n"
     ]
    },
    {
     "name": "stderr",
     "output_type": "stream",
     "text": [
      "Unexpected parameter: id\n",
      "Unexpected parameter: id\n",
      "Unexpected parameter: id\n",
      "Unexpected parameter: id\n",
      "Unexpected parameter: id\n"
     ]
    },
    {
     "name": "stdout",
     "output_type": "stream",
     "text": [
      "1200 tweets scraped in total.\n"
     ]
    },
    {
     "name": "stderr",
     "output_type": "stream",
     "text": [
      "Unexpected parameter: id\n",
      "Unexpected parameter: id\n",
      "Unexpected parameter: id\n",
      "Unexpected parameter: id\n",
      "Unexpected parameter: id\n"
     ]
    },
    {
     "name": "stdout",
     "output_type": "stream",
     "text": [
      "1300 tweets scraped in total.\n"
     ]
    },
    {
     "name": "stderr",
     "output_type": "stream",
     "text": [
      "Unexpected parameter: id\n",
      "Unexpected parameter: id\n",
      "Unexpected parameter: id\n",
      "Unexpected parameter: id\n",
      "Unexpected parameter: id\n"
     ]
    },
    {
     "name": "stdout",
     "output_type": "stream",
     "text": [
      "1400 tweets scraped in total.\n"
     ]
    },
    {
     "name": "stderr",
     "output_type": "stream",
     "text": [
      "Unexpected parameter: id\n",
      "Unexpected parameter: id\n",
      "Unexpected parameter: id\n",
      "Unexpected parameter: id\n",
      "Unexpected parameter: id\n"
     ]
    },
    {
     "name": "stdout",
     "output_type": "stream",
     "text": [
      "1500 tweets scraped in total.\n"
     ]
    },
    {
     "name": "stderr",
     "output_type": "stream",
     "text": [
      "Unexpected parameter: id\n",
      "Unexpected parameter: id\n",
      "Unexpected parameter: id\n",
      "Unexpected parameter: id\n",
      "Unexpected parameter: id\n"
     ]
    },
    {
     "name": "stdout",
     "output_type": "stream",
     "text": [
      "1600 tweets scraped in total.\n"
     ]
    },
    {
     "name": "stderr",
     "output_type": "stream",
     "text": [
      "Unexpected parameter: id\n",
      "Unexpected parameter: id\n",
      "Unexpected parameter: id\n",
      "Unexpected parameter: id\n",
      "Unexpected parameter: id\n"
     ]
    },
    {
     "name": "stdout",
     "output_type": "stream",
     "text": [
      "1700 tweets scraped in total.\n"
     ]
    },
    {
     "name": "stderr",
     "output_type": "stream",
     "text": [
      "Unexpected parameter: id\n",
      "Unexpected parameter: id\n",
      "Unexpected parameter: id\n",
      "Unexpected parameter: id\n",
      "Unexpected parameter: id\n"
     ]
    },
    {
     "name": "stdout",
     "output_type": "stream",
     "text": [
      "1800 tweets scraped in total.\n"
     ]
    },
    {
     "name": "stderr",
     "output_type": "stream",
     "text": [
      "Unexpected parameter: id\n",
      "Unexpected parameter: id\n",
      "Unexpected parameter: id\n",
      "Unexpected parameter: id\n",
      "Unexpected parameter: id\n"
     ]
    },
    {
     "name": "stdout",
     "output_type": "stream",
     "text": [
      "1900 tweets scraped in total.\n"
     ]
    },
    {
     "name": "stderr",
     "output_type": "stream",
     "text": [
      "Unexpected parameter: id\n",
      "Unexpected parameter: id\n",
      "Unexpected parameter: id\n",
      "Unexpected parameter: id\n"
     ]
    },
    {
     "name": "stdout",
     "output_type": "stream",
     "text": [
      "2000 tweets scraped.\n",
      "currently writing images for tweet 0\n",
      "currently writing images for tweet 100\n",
      "currently writing images for tweet 200\n",
      "currently writing images for tweet 300\n",
      "currently writing images for tweet 400\n",
      "currently writing images for tweet 500\n",
      "currently writing images for tweet 600\n",
      "currently writing images for tweet 700\n",
      "currently writing images for tweet 800\n",
      "currently writing images for tweet 900\n",
      "currently writing images for tweet 1000\n",
      "currently writing images for tweet 1100\n",
      "currently writing images for tweet 1200\n",
      "currently writing images for tweet 1300\n",
      "currently writing images for tweet 1400\n",
      "currently writing images for tweet 1500\n",
      "currently writing images for tweet 1600\n",
      "currently writing images for tweet 1700\n",
      "currently writing images for tweet 1800\n",
      "currently writing images for tweet 1900\n",
      "parsed 452 tweets for images\n"
     ]
    }
   ],
   "source": [
    "accountInQuestion = 'MENAConflicted'\n",
    "\n",
    "tweets = []\n",
    "i = 0\n",
    "for tweet in tweepy.Cursor(api.user_timeline,id=accountInQuestion,tweet_mode='extended').items():\n",
    "    if i == 2000:\n",
    "        print(f'{i} tweets scraped.')\n",
    "        break\n",
    "    if i % 100 == 0:\n",
    "        print(f'{i} tweets scraped in total.')\n",
    "    tweets.append(tweet)\n",
    "    i += 1\n",
    "\n",
    "def formatText(txt):\n",
    "    for char in ' .\\/▪️':\n",
    "        txt = txt.replace(char, '_')\n",
    "    return txt\n",
    "\n",
    "not_supported = []\n",
    "w_images = 0\n",
    "\n",
    "for i, tweet in enumerate(tweets):\n",
    "    if i % 100 == 0:\n",
    "        print(f'currently writing images for tweet {i}')\n",
    "    try:\n",
    "        image_url = tweet.extended_entities['media'][0]['media_url']\n",
    "    except:\n",
    "        not_supported.append(tweet)\n",
    "        continue\n",
    "    text_snippet = formatText(tweet.full_text[:50])\n",
    "    tweet_id = tweet.id\n",
    "    img_data = requests.get(image_url).content\n",
    "    dt = tweets[0].created_at\n",
    "    stringtime = dt.strftime(\"%m-%d-%Y\")\n",
    "    with open(f'@{accountInQuestion}/{stringtime}_{text_snippet}__{tweet_id}.jpg', 'wb') as handler:\n",
    "        handler.write(img_data)\n",
    "    w_images += 1\n",
    "        \n",
    "print(f'parsed {w_images} tweets for images')"
   ]
  },
  {
   "cell_type": "code",
   "execution_count": null,
   "id": "435a2ae4-6f61-4ad9-b119-b0baeef86ad7",
   "metadata": {},
   "outputs": [],
   "source": []
  },
  {
   "cell_type": "code",
   "execution_count": 107,
   "id": "a487e326-cc5b-4fe0-938d-07b93ce97ca5",
   "metadata": {},
   "outputs": [
    {
     "ename": "TooManyRequests",
     "evalue": "429 Too Many Requests",
     "output_type": "error",
     "traceback": [
      "\u001b[0;31m---------------------------------------------------------------------------\u001b[0m",
      "\u001b[0;31mTooManyRequests\u001b[0m                           Traceback (most recent call last)",
      "\u001b[0;32m/var/folders/jj/_szc94p56q91q_7c209d1d9w0000gn/T/ipykernel_45848/1909080833.py\u001b[0m in \u001b[0;36m<module>\u001b[0;34m\u001b[0m\n\u001b[1;32m      3\u001b[0m \u001b[0;32mfor\u001b[0m \u001b[0mtweet\u001b[0m \u001b[0;32min\u001b[0m \u001b[0mtweets\u001b[0m\u001b[0;34m:\u001b[0m\u001b[0;34m\u001b[0m\u001b[0;34m\u001b[0m\u001b[0m\n\u001b[1;32m      4\u001b[0m     \u001b[0;31m# getting the retweeters\u001b[0m\u001b[0;34m\u001b[0m\u001b[0;34m\u001b[0m\u001b[0m\n\u001b[0;32m----> 5\u001b[0;31m     \u001b[0mquote_tweets\u001b[0m \u001b[0;34m=\u001b[0m \u001b[0mclient\u001b[0m\u001b[0;34m.\u001b[0m\u001b[0mget_quote_tweets\u001b[0m\u001b[0;34m(\u001b[0m\u001b[0mtweet\u001b[0m\u001b[0;34m.\u001b[0m\u001b[0mid\u001b[0m\u001b[0;34m)\u001b[0m\u001b[0;34m\u001b[0m\u001b[0;34m\u001b[0m\u001b[0m\n\u001b[0m\u001b[1;32m      6\u001b[0m     \u001b[0;32mfor\u001b[0m \u001b[0mqt\u001b[0m \u001b[0;32min\u001b[0m \u001b[0mquote_tweets\u001b[0m\u001b[0;34m:\u001b[0m\u001b[0;34m\u001b[0m\u001b[0;34m\u001b[0m\u001b[0m\n\u001b[1;32m      7\u001b[0m         \u001b[0mall_quote_tweets\u001b[0m\u001b[0;34m.\u001b[0m\u001b[0mappend\u001b[0m\u001b[0;34m(\u001b[0m\u001b[0mqt\u001b[0m\u001b[0;34m)\u001b[0m\u001b[0;34m\u001b[0m\u001b[0;34m\u001b[0m\u001b[0m\n",
      "\u001b[0;32m~/opt/anaconda3/lib/python3.9/site-packages/tweepy/client.py\u001b[0m in \u001b[0;36mget_quote_tweets\u001b[0;34m(self, id, user_auth, **params)\u001b[0m\n\u001b[1;32m    882\u001b[0m         \u001b[0;34m.\u001b[0m\u001b[0;34m.\u001b[0m \u001b[0m_Tweet\u001b[0m \u001b[0mcap\u001b[0m\u001b[0;34m:\u001b[0m \u001b[0mhttps\u001b[0m\u001b[0;34m:\u001b[0m\u001b[0;34m//\u001b[0m\u001b[0mdeveloper\u001b[0m\u001b[0;34m.\u001b[0m\u001b[0mtwitter\u001b[0m\u001b[0;34m.\u001b[0m\u001b[0mcom\u001b[0m\u001b[0;34m/\u001b[0m\u001b[0men\u001b[0m\u001b[0;34m/\u001b[0m\u001b[0mdocs\u001b[0m\u001b[0;34m/\u001b[0m\u001b[0mprojects\u001b[0m\u001b[0;34m/\u001b[0m\u001b[0moverview\u001b[0m\u001b[0;31m#tweet-cap\u001b[0m\u001b[0;34m\u001b[0m\u001b[0;34m\u001b[0m\u001b[0m\n\u001b[1;32m    883\u001b[0m         \"\"\"\n\u001b[0;32m--> 884\u001b[0;31m         return self._make_request(\n\u001b[0m\u001b[1;32m    885\u001b[0m             \u001b[0;34m\"GET\"\u001b[0m\u001b[0;34m,\u001b[0m \u001b[0;34mf\"/2/tweets/{id}/quote_tweets\"\u001b[0m\u001b[0;34m,\u001b[0m \u001b[0mparams\u001b[0m\u001b[0;34m=\u001b[0m\u001b[0mparams\u001b[0m\u001b[0;34m,\u001b[0m\u001b[0;34m\u001b[0m\u001b[0;34m\u001b[0m\u001b[0m\n\u001b[1;32m    886\u001b[0m             endpoint_parameters=(\n",
      "\u001b[0;32m~/opt/anaconda3/lib/python3.9/site-packages/tweepy/client.py\u001b[0m in \u001b[0;36m_make_request\u001b[0;34m(self, method, route, params, endpoint_parameters, json, data_type, user_auth)\u001b[0m\n\u001b[1;32m    124\u001b[0m         \u001b[0mrequest_params\u001b[0m \u001b[0;34m=\u001b[0m \u001b[0mself\u001b[0m\u001b[0;34m.\u001b[0m\u001b[0m_process_params\u001b[0m\u001b[0;34m(\u001b[0m\u001b[0mparams\u001b[0m\u001b[0;34m,\u001b[0m \u001b[0mendpoint_parameters\u001b[0m\u001b[0;34m)\u001b[0m\u001b[0;34m\u001b[0m\u001b[0;34m\u001b[0m\u001b[0m\n\u001b[1;32m    125\u001b[0m \u001b[0;34m\u001b[0m\u001b[0m\n\u001b[0;32m--> 126\u001b[0;31m         response = self.request(method, route, params=request_params,\n\u001b[0m\u001b[1;32m    127\u001b[0m                                 json=json, user_auth=user_auth)\n\u001b[1;32m    128\u001b[0m \u001b[0;34m\u001b[0m\u001b[0m\n",
      "\u001b[0;32m~/opt/anaconda3/lib/python3.9/site-packages/tweepy/client.py\u001b[0m in \u001b[0;36mrequest\u001b[0;34m(self, method, route, params, json, user_auth)\u001b[0m\n\u001b[1;32m    112\u001b[0m                     \u001b[0;32mreturn\u001b[0m \u001b[0mself\u001b[0m\u001b[0;34m.\u001b[0m\u001b[0mrequest\u001b[0m\u001b[0;34m(\u001b[0m\u001b[0mmethod\u001b[0m\u001b[0;34m,\u001b[0m \u001b[0mroute\u001b[0m\u001b[0;34m,\u001b[0m \u001b[0mparams\u001b[0m\u001b[0;34m,\u001b[0m \u001b[0mjson\u001b[0m\u001b[0;34m,\u001b[0m \u001b[0muser_auth\u001b[0m\u001b[0;34m)\u001b[0m\u001b[0;34m\u001b[0m\u001b[0;34m\u001b[0m\u001b[0m\n\u001b[1;32m    113\u001b[0m                 \u001b[0;32melse\u001b[0m\u001b[0;34m:\u001b[0m\u001b[0;34m\u001b[0m\u001b[0;34m\u001b[0m\u001b[0m\n\u001b[0;32m--> 114\u001b[0;31m                     \u001b[0;32mraise\u001b[0m \u001b[0mTooManyRequests\u001b[0m\u001b[0;34m(\u001b[0m\u001b[0mresponse\u001b[0m\u001b[0;34m)\u001b[0m\u001b[0;34m\u001b[0m\u001b[0;34m\u001b[0m\u001b[0m\n\u001b[0m\u001b[1;32m    115\u001b[0m             \u001b[0;32mif\u001b[0m \u001b[0mresponse\u001b[0m\u001b[0;34m.\u001b[0m\u001b[0mstatus_code\u001b[0m \u001b[0;34m>=\u001b[0m \u001b[0;36m500\u001b[0m\u001b[0;34m:\u001b[0m\u001b[0;34m\u001b[0m\u001b[0;34m\u001b[0m\u001b[0m\n\u001b[1;32m    116\u001b[0m                 \u001b[0;32mraise\u001b[0m \u001b[0mTwitterServerError\u001b[0m\u001b[0;34m(\u001b[0m\u001b[0mresponse\u001b[0m\u001b[0;34m)\u001b[0m\u001b[0;34m\u001b[0m\u001b[0;34m\u001b[0m\u001b[0m\n",
      "\u001b[0;31mTooManyRequests\u001b[0m: 429 Too Many Requests"
     ]
    }
   ],
   "source": [
    "# get retweets\n",
    "all_quote_tweets = []\n",
    "for tweet in tweets:\n",
    "    # getting the retweeters\n",
    "    quote_tweets = client.get_quote_tweets(tweet.id)\n",
    "    for qt in quote_tweets:\n",
    "        all_quote_tweets.append(qt)"
   ]
  },
  {
   "cell_type": "code",
   "execution_count": null,
   "id": "2fb71a9f-38ec-4456-8865-2397a923d935",
   "metadata": {},
   "outputs": [],
   "source": [
    "for t in quote_tweets.data:\n",
    "    if t.attachments != None:\n",
    "        print(t.attachments)"
   ]
  },
  {
   "cell_type": "code",
   "execution_count": null,
   "id": "e2ef21fc-5595-4a7e-b9ac-603eba34c39c",
   "metadata": {},
   "outputs": [],
   "source": []
  },
  {
   "cell_type": "code",
   "execution_count": 98,
   "id": "d3e03d2e-dfbc-47e3-9798-ce376b261a5b",
   "metadata": {},
   "outputs": [
    {
     "data": {
      "text/plain": [
       "Status(_api=<tweepy.api.API object at 0x7ff1f95c1520>, _json={'created_at': 'Thu Apr 28 13:54:38 +0000 2022', 'id': 1519676468292247553, 'id_str': '1519676468292247553', 'text': \"Why doesn't NATO just set up a forward operating base in Western Ukraine https://t.co/vljBGHSeeL\", 'truncated': False, 'entities': {'hashtags': [], 'symbols': [], 'user_mentions': [], 'urls': [{'url': 'https://t.co/vljBGHSeeL', 'expanded_url': 'https://twitter.com/Ukraine/status/1519047156031762434', 'display_url': 'twitter.com/Ukraine/status…', 'indices': [73, 96]}]}, 'source': '<a href=\"http://twitter.com/download/android\" rel=\"nofollow\">Twitter for Android</a>', 'in_reply_to_status_id': None, 'in_reply_to_status_id_str': None, 'in_reply_to_user_id': None, 'in_reply_to_user_id_str': None, 'in_reply_to_screen_name': None, 'user': {'id': 1208526978145562624, 'id_str': '1208526978145562624', 'name': 'garageboy', 'screen_name': 'bannedbytweeter', 'location': '', 'description': 'yep', 'url': None, 'entities': {'description': {'urls': []}}, 'protected': False, 'followers_count': 3, 'friends_count': 55, 'listed_count': 0, 'created_at': 'Sat Dec 21 23:17:56 +0000 2019', 'favourites_count': 560, 'utc_offset': None, 'time_zone': None, 'geo_enabled': False, 'verified': False, 'statuses_count': 785, 'lang': None, 'contributors_enabled': False, 'is_translator': False, 'is_translation_enabled': False, 'profile_background_color': 'F5F8FA', 'profile_background_image_url': None, 'profile_background_image_url_https': None, 'profile_background_tile': False, 'profile_image_url': 'http://pbs.twimg.com/profile_images/1316930948106248198/t-vmdFOn_normal.jpg', 'profile_image_url_https': 'https://pbs.twimg.com/profile_images/1316930948106248198/t-vmdFOn_normal.jpg', 'profile_link_color': '1DA1F2', 'profile_sidebar_border_color': 'C0DEED', 'profile_sidebar_fill_color': 'DDEEF6', 'profile_text_color': '333333', 'profile_use_background_image': True, 'has_extended_profile': True, 'default_profile': True, 'default_profile_image': False, 'following': False, 'follow_request_sent': False, 'notifications': False, 'translator_type': 'none', 'withheld_in_countries': []}, 'geo': None, 'coordinates': None, 'place': None, 'contributors': None, 'is_quote_status': True, 'quoted_status_id': 1519047156031762434, 'quoted_status_id_str': '1519047156031762434', 'quoted_status': {'created_at': 'Tue Apr 26 20:13:59 +0000 2022', 'id': 1519047156031762434, 'id_str': '1519047156031762434', 'text': 'On this day in 1986, Soviet lies led to Chornobyl disaster, the worst nuclear catastrophe in history. Today Russia,… https://t.co/MX44uVxCv2', 'truncated': True, 'entities': {'hashtags': [], 'symbols': [], 'user_mentions': [], 'urls': [{'url': 'https://t.co/MX44uVxCv2', 'expanded_url': 'https://twitter.com/i/web/status/1519047156031762434', 'display_url': 'twitter.com/i/web/status/1…', 'indices': [117, 140]}]}, 'source': '<a href=\"http://twitter.com/download/iphone\" rel=\"nofollow\">Twitter for iPhone</a>', 'in_reply_to_status_id': None, 'in_reply_to_status_id_str': None, 'in_reply_to_user_id': None, 'in_reply_to_user_id_str': None, 'in_reply_to_screen_name': None, 'user': {'id': 732521058507620356, 'id_str': '732521058507620356', 'name': 'Ukraine / Україна', 'screen_name': 'Ukraine', 'location': 'Ukraine', 'description': 'Yes, this is the official Twitter account of Ukraine.', 'url': None, 'entities': {'description': {'urls': []}}, 'protected': False, 'followers_count': 2092133, 'friends_count': 25, 'listed_count': 8227, 'created_at': 'Tue May 17 10:40:04 +0000 2016', 'favourites_count': 699, 'utc_offset': None, 'time_zone': None, 'geo_enabled': False, 'verified': True, 'statuses_count': 1834, 'lang': None, 'contributors_enabled': False, 'is_translator': False, 'is_translation_enabled': False, 'profile_background_color': 'F5F8FA', 'profile_background_image_url': None, 'profile_background_image_url_https': None, 'profile_background_tile': False, 'profile_image_url': 'http://pbs.twimg.com/profile_images/1011852346232631296/gw8Yp3dG_normal.jpg', 'profile_image_url_https': 'https://pbs.twimg.com/profile_images/1011852346232631296/gw8Yp3dG_normal.jpg', 'profile_banner_url': 'https://pbs.twimg.com/profile_banners/732521058507620356/1625634206', 'profile_link_color': '1DA1F2', 'profile_sidebar_border_color': 'C0DEED', 'profile_sidebar_fill_color': 'DDEEF6', 'profile_text_color': '333333', 'profile_use_background_image': True, 'has_extended_profile': True, 'default_profile': True, 'default_profile_image': False, 'following': True, 'follow_request_sent': False, 'notifications': False, 'translator_type': 'none', 'withheld_in_countries': []}, 'geo': None, 'coordinates': None, 'place': None, 'contributors': None, 'is_quote_status': False, 'retweet_count': 1754, 'favorite_count': 9385, 'favorited': False, 'retweeted': False, 'possibly_sensitive': False, 'possibly_sensitive_appealable': False, 'lang': 'en'}, 'retweet_count': 0, 'favorite_count': 0, 'favorited': False, 'retweeted': False, 'possibly_sensitive': False, 'possibly_sensitive_appealable': False, 'lang': 'en'}, created_at=datetime.datetime(2022, 4, 28, 13, 54, 38, tzinfo=datetime.timezone.utc), id=1519676468292247553, id_str='1519676468292247553', text=\"Why doesn't NATO just set up a forward operating base in Western Ukraine https://t.co/vljBGHSeeL\", truncated=False, entities={'hashtags': [], 'symbols': [], 'user_mentions': [], 'urls': [{'url': 'https://t.co/vljBGHSeeL', 'expanded_url': 'https://twitter.com/Ukraine/status/1519047156031762434', 'display_url': 'twitter.com/Ukraine/status…', 'indices': [73, 96]}]}, source='Twitter for Android', source_url='http://twitter.com/download/android', in_reply_to_status_id=None, in_reply_to_status_id_str=None, in_reply_to_user_id=None, in_reply_to_user_id_str=None, in_reply_to_screen_name=None, author=User(_api=<tweepy.api.API object at 0x7ff1f95c1520>, _json={'id': 1208526978145562624, 'id_str': '1208526978145562624', 'name': 'garageboy', 'screen_name': 'bannedbytweeter', 'location': '', 'description': 'yep', 'url': None, 'entities': {'description': {'urls': []}}, 'protected': False, 'followers_count': 3, 'friends_count': 55, 'listed_count': 0, 'created_at': 'Sat Dec 21 23:17:56 +0000 2019', 'favourites_count': 560, 'utc_offset': None, 'time_zone': None, 'geo_enabled': False, 'verified': False, 'statuses_count': 785, 'lang': None, 'contributors_enabled': False, 'is_translator': False, 'is_translation_enabled': False, 'profile_background_color': 'F5F8FA', 'profile_background_image_url': None, 'profile_background_image_url_https': None, 'profile_background_tile': False, 'profile_image_url': 'http://pbs.twimg.com/profile_images/1316930948106248198/t-vmdFOn_normal.jpg', 'profile_image_url_https': 'https://pbs.twimg.com/profile_images/1316930948106248198/t-vmdFOn_normal.jpg', 'profile_link_color': '1DA1F2', 'profile_sidebar_border_color': 'C0DEED', 'profile_sidebar_fill_color': 'DDEEF6', 'profile_text_color': '333333', 'profile_use_background_image': True, 'has_extended_profile': True, 'default_profile': True, 'default_profile_image': False, 'following': False, 'follow_request_sent': False, 'notifications': False, 'translator_type': 'none', 'withheld_in_countries': []}, id=1208526978145562624, id_str='1208526978145562624', name='garageboy', screen_name='bannedbytweeter', location='', description='yep', url=None, entities={'description': {'urls': []}}, protected=False, followers_count=3, friends_count=55, listed_count=0, created_at=datetime.datetime(2019, 12, 21, 23, 17, 56, tzinfo=datetime.timezone.utc), favourites_count=560, utc_offset=None, time_zone=None, geo_enabled=False, verified=False, statuses_count=785, lang=None, contributors_enabled=False, is_translator=False, is_translation_enabled=False, profile_background_color='F5F8FA', profile_background_image_url=None, profile_background_image_url_https=None, profile_background_tile=False, profile_image_url='http://pbs.twimg.com/profile_images/1316930948106248198/t-vmdFOn_normal.jpg', profile_image_url_https='https://pbs.twimg.com/profile_images/1316930948106248198/t-vmdFOn_normal.jpg', profile_link_color='1DA1F2', profile_sidebar_border_color='C0DEED', profile_sidebar_fill_color='DDEEF6', profile_text_color='333333', profile_use_background_image=True, has_extended_profile=True, default_profile=True, default_profile_image=False, following=False, follow_request_sent=False, notifications=False, translator_type='none', withheld_in_countries=[]), user=User(_api=<tweepy.api.API object at 0x7ff1f95c1520>, _json={'id': 1208526978145562624, 'id_str': '1208526978145562624', 'name': 'garageboy', 'screen_name': 'bannedbytweeter', 'location': '', 'description': 'yep', 'url': None, 'entities': {'description': {'urls': []}}, 'protected': False, 'followers_count': 3, 'friends_count': 55, 'listed_count': 0, 'created_at': 'Sat Dec 21 23:17:56 +0000 2019', 'favourites_count': 560, 'utc_offset': None, 'time_zone': None, 'geo_enabled': False, 'verified': False, 'statuses_count': 785, 'lang': None, 'contributors_enabled': False, 'is_translator': False, 'is_translation_enabled': False, 'profile_background_color': 'F5F8FA', 'profile_background_image_url': None, 'profile_background_image_url_https': None, 'profile_background_tile': False, 'profile_image_url': 'http://pbs.twimg.com/profile_images/1316930948106248198/t-vmdFOn_normal.jpg', 'profile_image_url_https': 'https://pbs.twimg.com/profile_images/1316930948106248198/t-vmdFOn_normal.jpg', 'profile_link_color': '1DA1F2', 'profile_sidebar_border_color': 'C0DEED', 'profile_sidebar_fill_color': 'DDEEF6', 'profile_text_color': '333333', 'profile_use_background_image': True, 'has_extended_profile': True, 'default_profile': True, 'default_profile_image': False, 'following': False, 'follow_request_sent': False, 'notifications': False, 'translator_type': 'none', 'withheld_in_countries': []}, id=1208526978145562624, id_str='1208526978145562624', name='garageboy', screen_name='bannedbytweeter', location='', description='yep', url=None, entities={'description': {'urls': []}}, protected=False, followers_count=3, friends_count=55, listed_count=0, created_at=datetime.datetime(2019, 12, 21, 23, 17, 56, tzinfo=datetime.timezone.utc), favourites_count=560, utc_offset=None, time_zone=None, geo_enabled=False, verified=False, statuses_count=785, lang=None, contributors_enabled=False, is_translator=False, is_translation_enabled=False, profile_background_color='F5F8FA', profile_background_image_url=None, profile_background_image_url_https=None, profile_background_tile=False, profile_image_url='http://pbs.twimg.com/profile_images/1316930948106248198/t-vmdFOn_normal.jpg', profile_image_url_https='https://pbs.twimg.com/profile_images/1316930948106248198/t-vmdFOn_normal.jpg', profile_link_color='1DA1F2', profile_sidebar_border_color='C0DEED', profile_sidebar_fill_color='DDEEF6', profile_text_color='333333', profile_use_background_image=True, has_extended_profile=True, default_profile=True, default_profile_image=False, following=False, follow_request_sent=False, notifications=False, translator_type='none', withheld_in_countries=[]), geo=None, coordinates=None, place=None, contributors=None, is_quote_status=True, quoted_status_id=1519047156031762434, quoted_status_id_str='1519047156031762434', quoted_status=Status(_api=<tweepy.api.API object at 0x7ff1f95c1520>, _json={'created_at': 'Tue Apr 26 20:13:59 +0000 2022', 'id': 1519047156031762434, 'id_str': '1519047156031762434', 'text': 'On this day in 1986, Soviet lies led to Chornobyl disaster, the worst nuclear catastrophe in history. Today Russia,… https://t.co/MX44uVxCv2', 'truncated': True, 'entities': {'hashtags': [], 'symbols': [], 'user_mentions': [], 'urls': [{'url': 'https://t.co/MX44uVxCv2', 'expanded_url': 'https://twitter.com/i/web/status/1519047156031762434', 'display_url': 'twitter.com/i/web/status/1…', 'indices': [117, 140]}]}, 'source': '<a href=\"http://twitter.com/download/iphone\" rel=\"nofollow\">Twitter for iPhone</a>', 'in_reply_to_status_id': None, 'in_reply_to_status_id_str': None, 'in_reply_to_user_id': None, 'in_reply_to_user_id_str': None, 'in_reply_to_screen_name': None, 'user': {'id': 732521058507620356, 'id_str': '732521058507620356', 'name': 'Ukraine / Україна', 'screen_name': 'Ukraine', 'location': 'Ukraine', 'description': 'Yes, this is the official Twitter account of Ukraine.', 'url': None, 'entities': {'description': {'urls': []}}, 'protected': False, 'followers_count': 2092133, 'friends_count': 25, 'listed_count': 8227, 'created_at': 'Tue May 17 10:40:04 +0000 2016', 'favourites_count': 699, 'utc_offset': None, 'time_zone': None, 'geo_enabled': False, 'verified': True, 'statuses_count': 1834, 'lang': None, 'contributors_enabled': False, 'is_translator': False, 'is_translation_enabled': False, 'profile_background_color': 'F5F8FA', 'profile_background_image_url': None, 'profile_background_image_url_https': None, 'profile_background_tile': False, 'profile_image_url': 'http://pbs.twimg.com/profile_images/1011852346232631296/gw8Yp3dG_normal.jpg', 'profile_image_url_https': 'https://pbs.twimg.com/profile_images/1011852346232631296/gw8Yp3dG_normal.jpg', 'profile_banner_url': 'https://pbs.twimg.com/profile_banners/732521058507620356/1625634206', 'profile_link_color': '1DA1F2', 'profile_sidebar_border_color': 'C0DEED', 'profile_sidebar_fill_color': 'DDEEF6', 'profile_text_color': '333333', 'profile_use_background_image': True, 'has_extended_profile': True, 'default_profile': True, 'default_profile_image': False, 'following': True, 'follow_request_sent': False, 'notifications': False, 'translator_type': 'none', 'withheld_in_countries': []}, 'geo': None, 'coordinates': None, 'place': None, 'contributors': None, 'is_quote_status': False, 'retweet_count': 1754, 'favorite_count': 9385, 'favorited': False, 'retweeted': False, 'possibly_sensitive': False, 'possibly_sensitive_appealable': False, 'lang': 'en'}, created_at=datetime.datetime(2022, 4, 26, 20, 13, 59, tzinfo=datetime.timezone.utc), id=1519047156031762434, id_str='1519047156031762434', text='On this day in 1986, Soviet lies led to Chornobyl disaster, the worst nuclear catastrophe in history. Today Russia,… https://t.co/MX44uVxCv2', truncated=True, entities={'hashtags': [], 'symbols': [], 'user_mentions': [], 'urls': [{'url': 'https://t.co/MX44uVxCv2', 'expanded_url': 'https://twitter.com/i/web/status/1519047156031762434', 'display_url': 'twitter.com/i/web/status/1…', 'indices': [117, 140]}]}, source='Twitter for iPhone', source_url='http://twitter.com/download/iphone', in_reply_to_status_id=None, in_reply_to_status_id_str=None, in_reply_to_user_id=None, in_reply_to_user_id_str=None, in_reply_to_screen_name=None, author=User(_api=<tweepy.api.API object at 0x7ff1f95c1520>, _json={'id': 732521058507620356, 'id_str': '732521058507620356', 'name': 'Ukraine / Україна', 'screen_name': 'Ukraine', 'location': 'Ukraine', 'description': 'Yes, this is the official Twitter account of Ukraine.', 'url': None, 'entities': {'description': {'urls': []}}, 'protected': False, 'followers_count': 2092133, 'friends_count': 25, 'listed_count': 8227, 'created_at': 'Tue May 17 10:40:04 +0000 2016', 'favourites_count': 699, 'utc_offset': None, 'time_zone': None, 'geo_enabled': False, 'verified': True, 'statuses_count': 1834, 'lang': None, 'contributors_enabled': False, 'is_translator': False, 'is_translation_enabled': False, 'profile_background_color': 'F5F8FA', 'profile_background_image_url': None, 'profile_background_image_url_https': None, 'profile_background_tile': False, 'profile_image_url': 'http://pbs.twimg.com/profile_images/1011852346232631296/gw8Yp3dG_normal.jpg', 'profile_image_url_https': 'https://pbs.twimg.com/profile_images/1011852346232631296/gw8Yp3dG_normal.jpg', 'profile_banner_url': 'https://pbs.twimg.com/profile_banners/732521058507620356/1625634206', 'profile_link_color': '1DA1F2', 'profile_sidebar_border_color': 'C0DEED', 'profile_sidebar_fill_color': 'DDEEF6', 'profile_text_color': '333333', 'profile_use_background_image': True, 'has_extended_profile': True, 'default_profile': True, 'default_profile_image': False, 'following': True, 'follow_request_sent': False, 'notifications': False, 'translator_type': 'none', 'withheld_in_countries': []}, id=732521058507620356, id_str='732521058507620356', name='Ukraine / Україна', screen_name='Ukraine', location='Ukraine', description='Yes, this is the official Twitter account of Ukraine.', url=None, entities={'description': {'urls': []}}, protected=False, followers_count=2092133, friends_count=25, listed_count=8227, created_at=datetime.datetime(2016, 5, 17, 10, 40, 4, tzinfo=datetime.timezone.utc), favourites_count=699, utc_offset=None, time_zone=None, geo_enabled=False, verified=True, statuses_count=1834, lang=None, contributors_enabled=False, is_translator=False, is_translation_enabled=False, profile_background_color='F5F8FA', profile_background_image_url=None, profile_background_image_url_https=None, profile_background_tile=False, profile_image_url='http://pbs.twimg.com/profile_images/1011852346232631296/gw8Yp3dG_normal.jpg', profile_image_url_https='https://pbs.twimg.com/profile_images/1011852346232631296/gw8Yp3dG_normal.jpg', profile_banner_url='https://pbs.twimg.com/profile_banners/732521058507620356/1625634206', profile_link_color='1DA1F2', profile_sidebar_border_color='C0DEED', profile_sidebar_fill_color='DDEEF6', profile_text_color='333333', profile_use_background_image=True, has_extended_profile=True, default_profile=True, default_profile_image=False, following=True, follow_request_sent=False, notifications=False, translator_type='none', withheld_in_countries=[]), user=User(_api=<tweepy.api.API object at 0x7ff1f95c1520>, _json={'id': 732521058507620356, 'id_str': '732521058507620356', 'name': 'Ukraine / Україна', 'screen_name': 'Ukraine', 'location': 'Ukraine', 'description': 'Yes, this is the official Twitter account of Ukraine.', 'url': None, 'entities': {'description': {'urls': []}}, 'protected': False, 'followers_count': 2092133, 'friends_count': 25, 'listed_count': 8227, 'created_at': 'Tue May 17 10:40:04 +0000 2016', 'favourites_count': 699, 'utc_offset': None, 'time_zone': None, 'geo_enabled': False, 'verified': True, 'statuses_count': 1834, 'lang': None, 'contributors_enabled': False, 'is_translator': False, 'is_translation_enabled': False, 'profile_background_color': 'F5F8FA', 'profile_background_image_url': None, 'profile_background_image_url_https': None, 'profile_background_tile': False, 'profile_image_url': 'http://pbs.twimg.com/profile_images/1011852346232631296/gw8Yp3dG_normal.jpg', 'profile_image_url_https': 'https://pbs.twimg.com/profile_images/1011852346232631296/gw8Yp3dG_normal.jpg', 'profile_banner_url': 'https://pbs.twimg.com/profile_banners/732521058507620356/1625634206', 'profile_link_color': '1DA1F2', 'profile_sidebar_border_color': 'C0DEED', 'profile_sidebar_fill_color': 'DDEEF6', 'profile_text_color': '333333', 'profile_use_background_image': True, 'has_extended_profile': True, 'default_profile': True, 'default_profile_image': False, 'following': True, 'follow_request_sent': False, 'notifications': False, 'translator_type': 'none', 'withheld_in_countries': []}, id=732521058507620356, id_str='732521058507620356', name='Ukraine / Україна', screen_name='Ukraine', location='Ukraine', description='Yes, this is the official Twitter account of Ukraine.', url=None, entities={'description': {'urls': []}}, protected=False, followers_count=2092133, friends_count=25, listed_count=8227, created_at=datetime.datetime(2016, 5, 17, 10, 40, 4, tzinfo=datetime.timezone.utc), favourites_count=699, utc_offset=None, time_zone=None, geo_enabled=False, verified=True, statuses_count=1834, lang=None, contributors_enabled=False, is_translator=False, is_translation_enabled=False, profile_background_color='F5F8FA', profile_background_image_url=None, profile_background_image_url_https=None, profile_background_tile=False, profile_image_url='http://pbs.twimg.com/profile_images/1011852346232631296/gw8Yp3dG_normal.jpg', profile_image_url_https='https://pbs.twimg.com/profile_images/1011852346232631296/gw8Yp3dG_normal.jpg', profile_banner_url='https://pbs.twimg.com/profile_banners/732521058507620356/1625634206', profile_link_color='1DA1F2', profile_sidebar_border_color='C0DEED', profile_sidebar_fill_color='DDEEF6', profile_text_color='333333', profile_use_background_image=True, has_extended_profile=True, default_profile=True, default_profile_image=False, following=True, follow_request_sent=False, notifications=False, translator_type='none', withheld_in_countries=[]), geo=None, coordinates=None, place=None, contributors=None, is_quote_status=False, retweet_count=1754, favorite_count=9385, favorited=False, retweeted=False, possibly_sensitive=False, possibly_sensitive_appealable=False, lang='en'), retweet_count=0, favorite_count=0, favorited=False, retweeted=False, possibly_sensitive=False, possibly_sensitive_appealable=False, lang='en')"
      ]
     },
     "execution_count": 98,
     "metadata": {},
     "output_type": "execute_result"
    }
   ],
   "source": [
    "api.get_status(1519676468292247553)"
   ]
  },
  {
   "cell_type": "code",
   "execution_count": null,
   "id": "a5bf8465-c7c2-4062-85b9-5752cb3ecc2d",
   "metadata": {},
   "outputs": [],
   "source": []
  }
 ],
 "metadata": {
  "kernelspec": {
   "display_name": "Python 3 (ipykernel)",
   "language": "python",
   "name": "python3"
  },
  "language_info": {
   "codemirror_mode": {
    "name": "ipython",
    "version": 3
   },
   "file_extension": ".py",
   "mimetype": "text/x-python",
   "name": "python",
   "nbconvert_exporter": "python",
   "pygments_lexer": "ipython3",
   "version": "3.9.7"
  }
 },
 "nbformat": 4,
 "nbformat_minor": 5
}
